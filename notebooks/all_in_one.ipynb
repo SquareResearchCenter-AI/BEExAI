{
 "cells": [
  {
   "cell_type": "markdown",
   "metadata": {},
   "source": [
    "# Full example of the pipeline\n",
    "\n",
    "This notebooks synthesizes all the previous notebooks into a single pipeline. It is a good starting point to understand how to use the pipeline from end to end. For more details, use the numeroted notebooks in the order."
   ]
  },
  {
   "cell_type": "markdown",
   "metadata": {},
   "source": [
    "### Load data and train the model"
   ]
  },
  {
   "cell_type": "code",
   "execution_count": null,
   "metadata": {},
   "outputs": [],
   "source": [
    "import sys\n",
    "\n",
    "sys.path.append(\"../\")"
   ]
  },
  {
   "cell_type": "code",
   "execution_count": null,
   "metadata": {},
   "outputs": [],
   "source": [
    "import torch\n",
    "\n",
    "from beexai.dataset.dataset import Dataset\n",
    "from beexai.dataset.load_data import load_data\n",
    "from beexai.evaluate.metrics.get_results import get_all_metrics\n",
    "from beexai.explanation.explaining import CaptumExplainer\n",
    "from beexai.training.train import Trainer\n",
    "from beexai.utils.path import create_dir\n",
    "from beexai.utils.sampling import stratified_sampling\n",
    "from beexai.utils.time_seed import set_seed"
   ]
  },
  {
   "cell_type": "code",
   "execution_count": null,
   "metadata": {},
   "outputs": [],
   "source": [
    "seed = 42\n",
    "set_seed(seed)\n",
    "device = torch.device(\"cuda\" if torch.cuda.is_available() else \"cpu\")\n",
    "\n",
    "DATA_NAME = \"kickstarter\"\n",
    "MODEL_NAME = \"NeuralNetwork\"\n",
    "\n",
    "create_dir(f\"../output/data\")\n",
    "CONFIG_PATH = f\"config/{DATA_NAME}.yml\"\n",
    "data_test, target_col, task, dataCleaner = load_data(\n",
    "    from_cleaned=True, config_path=CONFIG_PATH, keep_corr_features=True\n",
    ")\n",
    "scale_params = {\n",
    "    \"x_num_scaler_name\": \"quantile_normal\",\n",
    "    \"x_cat_encoder_name\": \"ordinalencoder\",\n",
    "    \"y_scaler_name\": \"labelencoder\",\n",
    "    \"cat_not_to_onehot\": [\"name\"],\n",
    "}\n",
    "data = Dataset(data_test, target_col)\n",
    "X_train, X_test, y_train, y_test = data.get_train_test(\n",
    "    test_size=0.2, scaler_params=scale_params\n",
    ")\n",
    "X_train, X_val, y_train, y_val = data.get_train_val(X_train, y_train, val_size=0.2)\n",
    "num_labels = data.get_classes_num(task)"
   ]
  },
  {
   "cell_type": "code",
   "execution_count": null,
   "metadata": {},
   "outputs": [],
   "source": [
    "### Train a NN model\n",
    "NN_PARAMS = {\"input_dim\": X_train.shape[1], \"output_dim\": num_labels}\n",
    "\n",
    "trainer = Trainer(MODEL_NAME, task, NN_PARAMS, device)\n",
    "# trainer = Trainer(\"XGBRegressor\" ,task, device=device)\n",
    "trainer.train(\n",
    "    X_train.values,\n",
    "    y_train.values,\n",
    "    loss_file=f\"../output/loss.png\",\n",
    "    x_val=X_val,\n",
    "    y_val=y_val,\n",
    ")\n",
    "trainer.model.eval()  # comment if not NN\n",
    "metrics = trainer.get_metrics(X_test, y_test)\n",
    "for k, v in metrics.items():\n",
    "    print(f\"{k}: {v}\")"
   ]
  },
  {
   "cell_type": "code",
   "execution_count": null,
   "metadata": {},
   "outputs": [],
   "source": [
    "TEST_SIZE = 100\n",
    "X_test_sampled, y_test_sampled = stratified_sampling(X_test, y_test, TEST_SIZE, task)\n",
    "\n",
    "METHOD = \"IntegratedGradients\"  # Change to Non-Gradient based methods for sklearn models\n",
    "\n",
    "exp = CaptumExplainer(\n",
    "    trainer.model, task=task, method=METHOD, sklearn=False, device=device\n",
    ")  # change sklearn to True if not NN\n",
    "exp.init_explainer()\n",
    "\n",
    "all_preds = all_preds = trainer.model.predict(X_test_sampled.values)\n",
    "get_all_metrics(\n",
    "    X_test_sampled,\n",
    "    all_preds,\n",
    "    trainer.model,\n",
    "    exp,\n",
    "    baseline=\"zero\",\n",
    "    auc_metric=\"accuracy\", #change to mse for regression\n",
    "    print_plot=False,\n",
    "    save_path=None,\n",
    "    device=device\n",
    ")"
   ]
  }
 ],
 "metadata": {
  "kernelspec": {
   "display_name": "venv",
   "language": "python",
   "name": "python3"
  },
  "language_info": {
   "codemirror_mode": {
    "name": "ipython",
    "version": 3
   },
   "file_extension": ".py",
   "mimetype": "text/x-python",
   "name": "python",
   "nbconvert_exporter": "python",
   "pygments_lexer": "ipython3",
   "version": "3.9.13"
  }
 },
 "nbformat": 4,
 "nbformat_minor": 2
}
